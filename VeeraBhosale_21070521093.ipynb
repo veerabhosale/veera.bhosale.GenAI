{
 "cells": [
  {
   "cell_type": "code",
   "execution_count": 1,
   "metadata": {},
   "outputs": [
    {
     "name": "stdout",
     "output_type": "stream",
     "text": [
      "Requirement already satisfied: openpyxl in c:\\users\\ragha\\appdata\\local\\programs\\python\\python311\\lib\\site-packages (3.1.5)\n",
      "Requirement already satisfied: et-xmlfile in c:\\users\\ragha\\appdata\\local\\programs\\python\\python311\\lib\\site-packages (from openpyxl) (1.1.0)\n",
      "Note: you may need to restart the kernel to use updated packages.\n"
     ]
    }
   ],
   "source": [
    "%pip install openpyxl"
   ]
  },
  {
   "cell_type": "code",
   "execution_count": 2,
   "metadata": {},
   "outputs": [
    {
     "data": {
      "text/plain": [
       "['Base_Data_Set', 'Step_2', 'Sheet4', 'Step 3', 'Step 4', 'Sheet6']"
      ]
     },
     "execution_count": 2,
     "metadata": {},
     "output_type": "execute_result"
    }
   ],
   "source": [
    "import pandas as pd\n",
    "\n",
    "file_path = 'Auto_Regressive_Model_Diffusion_Model_V_1.0.xlsx'\n",
    "data = pd.ExcelFile(file_path)\n",
    "\n",
    "data.sheet_names\n"
   ]
  },
  {
   "cell_type": "code",
   "execution_count": 4,
   "metadata": {},
   "outputs": [
    {
     "data": {
      "text/html": [
       "<div>\n",
       "<style scoped>\n",
       "    .dataframe tbody tr th:only-of-type {\n",
       "        vertical-align: middle;\n",
       "    }\n",
       "\n",
       "    .dataframe tbody tr th {\n",
       "        vertical-align: top;\n",
       "    }\n",
       "\n",
       "    .dataframe thead th {\n",
       "        text-align: right;\n",
       "    }\n",
       "</style>\n",
       "<table border=\"1\" class=\"dataframe\">\n",
       "  <thead>\n",
       "    <tr style=\"text-align: right;\">\n",
       "      <th></th>\n",
       "      <th>SrNo</th>\n",
       "      <th>Patient_Id</th>\n",
       "      <th>Symptoms - 1</th>\n",
       "      <th>Unnamed: 3</th>\n",
       "      <th>Unnamed: 4</th>\n",
       "      <th>DOB</th>\n",
       "      <th>Symptoms - 2</th>\n",
       "      <th>Unnamed: 7</th>\n",
       "      <th>Unnamed: 8</th>\n",
       "      <th>Symptoms - 3</th>\n",
       "      <th>Unnamed: 10</th>\n",
       "      <th>Unnamed: 11</th>\n",
       "      <th>Other Symptoms</th>\n",
       "      <th>Unnamed: 13</th>\n",
       "      <th>Unnamed: 14</th>\n",
       "      <th>Parser</th>\n",
       "      <th>Unnamed: 16</th>\n",
       "      <th>Unnamed: 17</th>\n",
       "    </tr>\n",
       "  </thead>\n",
       "  <tbody>\n",
       "    <tr>\n",
       "      <th>0</th>\n",
       "      <td>NaN</td>\n",
       "      <td>NaN</td>\n",
       "      <td>Fever</td>\n",
       "      <td>NaN</td>\n",
       "      <td>NaN</td>\n",
       "      <td>NaN</td>\n",
       "      <td>Cough</td>\n",
       "      <td>NaN</td>\n",
       "      <td>NaN</td>\n",
       "      <td>Cold</td>\n",
       "      <td>NaN</td>\n",
       "      <td>NaN</td>\n",
       "      <td>Text</td>\n",
       "      <td>NaN</td>\n",
       "      <td>NaN</td>\n",
       "      <td>Create</td>\n",
       "      <td>NaN</td>\n",
       "      <td>NaN</td>\n",
       "    </tr>\n",
       "    <tr>\n",
       "      <th>1</th>\n",
       "      <td>NaN</td>\n",
       "      <td>NaN</td>\n",
       "      <td>Mild</td>\n",
       "      <td>Low</td>\n",
       "      <td>High</td>\n",
       "      <td>NaN</td>\n",
       "      <td>Mild</td>\n",
       "      <td>Low</td>\n",
       "      <td>High</td>\n",
       "      <td>Mild</td>\n",
       "      <td>Low</td>\n",
       "      <td>High</td>\n",
       "      <td>Text</td>\n",
       "      <td>NaN</td>\n",
       "      <td>NaN</td>\n",
       "      <td>NaN</td>\n",
       "      <td>Data Set Dictionary for Symptoms</td>\n",
       "      <td>NaN</td>\n",
       "    </tr>\n",
       "    <tr>\n",
       "      <th>2</th>\n",
       "      <td>1.0</td>\n",
       "      <td>1.0</td>\n",
       "      <td>Y</td>\n",
       "      <td>N</td>\n",
       "      <td>N</td>\n",
       "      <td>NaN</td>\n",
       "      <td>N</td>\n",
       "      <td>Y</td>\n",
       "      <td>Y0</td>\n",
       "      <td>N</td>\n",
       "      <td>N</td>\n",
       "      <td>Y</td>\n",
       "      <td>Body Ache</td>\n",
       "      <td>NaN</td>\n",
       "      <td>NaN</td>\n",
       "      <td>NaN</td>\n",
       "      <td>{</td>\n",
       "      <td>NaN</td>\n",
       "    </tr>\n",
       "    <tr>\n",
       "      <th>3</th>\n",
       "      <td>2.0</td>\n",
       "      <td>2.0</td>\n",
       "      <td>Y</td>\n",
       "      <td>N</td>\n",
       "      <td>N</td>\n",
       "      <td>NaN</td>\n",
       "      <td>N</td>\n",
       "      <td>Y</td>\n",
       "      <td>Y0</td>\n",
       "      <td>N</td>\n",
       "      <td>N</td>\n",
       "      <td>Y</td>\n",
       "      <td>Shivering</td>\n",
       "      <td>NaN</td>\n",
       "      <td>NaN</td>\n",
       "      <td>NaN</td>\n",
       "      <td>NaN</td>\n",
       "      <td>S1 : { Fever:mild,Fever:low,Fever:High}</td>\n",
       "    </tr>\n",
       "    <tr>\n",
       "      <th>4</th>\n",
       "      <td>3.0</td>\n",
       "      <td>3.0</td>\n",
       "      <td>Y</td>\n",
       "      <td>N</td>\n",
       "      <td>N</td>\n",
       "      <td>NaN</td>\n",
       "      <td>N</td>\n",
       "      <td>Y</td>\n",
       "      <td>Y0</td>\n",
       "      <td>N</td>\n",
       "      <td>N</td>\n",
       "      <td>Y</td>\n",
       "      <td>Head Ache</td>\n",
       "      <td>NaN</td>\n",
       "      <td>NaN</td>\n",
       "      <td>NaN</td>\n",
       "      <td>NaN</td>\n",
       "      <td>S2 : {Cough:mild,Cough:low,Cough:High}</td>\n",
       "    </tr>\n",
       "  </tbody>\n",
       "</table>\n",
       "</div>"
      ],
      "text/plain": [
       "   SrNo  Patient_Id Symptoms - 1 Unnamed: 3 Unnamed: 4  DOB Symptoms - 2  \\\n",
       "0   NaN         NaN        Fever        NaN        NaN  NaN        Cough   \n",
       "1   NaN         NaN         Mild        Low       High  NaN         Mild   \n",
       "2   1.0         1.0            Y          N          N  NaN            N   \n",
       "3   2.0         2.0            Y          N          N  NaN            N   \n",
       "4   3.0         3.0            Y          N          N  NaN            N   \n",
       "\n",
       "  Unnamed: 7 Unnamed: 8 Symptoms - 3 Unnamed: 10 Unnamed: 11 Other Symptoms  \\\n",
       "0        NaN        NaN         Cold         NaN         NaN           Text   \n",
       "1        Low       High         Mild         Low        High           Text   \n",
       "2          Y         Y0            N           N           Y      Body Ache   \n",
       "3          Y         Y0            N           N           Y      Shivering   \n",
       "4          Y         Y0            N           N           Y      Head Ache   \n",
       "\n",
       "   Unnamed: 13  Unnamed: 14  Parser                        Unnamed: 16  \\\n",
       "0          NaN          NaN  Create                                NaN   \n",
       "1          NaN          NaN      NaN  Data Set Dictionary for Symptoms   \n",
       "2          NaN          NaN      NaN                                 {   \n",
       "3          NaN          NaN      NaN                               NaN   \n",
       "4          NaN          NaN      NaN                               NaN   \n",
       "\n",
       "                               Unnamed: 17  \n",
       "0                                      NaN  \n",
       "1                                      NaN  \n",
       "2                                      NaN  \n",
       "3  S1 : { Fever:mild,Fever:low,Fever:High}  \n",
       "4   S2 : {Cough:mild,Cough:low,Cough:High}  "
      ]
     },
     "execution_count": 4,
     "metadata": {},
     "output_type": "execute_result"
    }
   ],
   "source": [
    "base_sheet = pd.read_excel(data, sheet_name='Base_Data_Set')\n",
    "\n",
    "base_sheet.head()"
   ]
  },
  {
   "cell_type": "code",
   "execution_count": 5,
   "metadata": {},
   "outputs": [
    {
     "data": {
      "text/plain": [
       "{'Fever': ['mild', 'low', 'high'],\n",
       " 'Cough': ['mild', 'low', 'high'],\n",
       " 'Cold': ['mild', 'low', 'high'],\n",
       " 'Body Ache': ['mild', 'moderate', 'severe'],\n",
       " 'Shivering': ['mild', 'moderate', 'severe'],\n",
       " 'Head Ache': ['mild', 'moderate', 'severe']}"
      ]
     },
     "execution_count": 5,
     "metadata": {},
     "output_type": "execute_result"
    }
   ],
   "source": [
    "symptom_dict = {\n",
    "    'Fever': ['mild', 'low', 'high'],\n",
    "    'Cough': ['mild', 'low', 'high'],\n",
    "    'Cold': ['mild', 'low', 'high'],\n",
    "    'Body Ache': ['mild', 'moderate', 'severe'],\n",
    "    'Shivering': ['mild', 'moderate', 'severe'],\n",
    "    'Head Ache': ['mild', 'moderate', 'severe']\n",
    "}\n",
    "\n",
    "symptom_dict\n"
   ]
  }
 ],
 "metadata": {
  "kernelspec": {
   "display_name": "Python 3",
   "language": "python",
   "name": "python3"
  },
  "language_info": {
   "codemirror_mode": {
    "name": "ipython",
    "version": 3
   },
   "file_extension": ".py",
   "mimetype": "text/x-python",
   "name": "python",
   "nbconvert_exporter": "python",
   "pygments_lexer": "ipython3",
   "version": "3.11.3"
  }
 },
 "nbformat": 4,
 "nbformat_minor": 2
}
